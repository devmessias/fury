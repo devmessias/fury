{
 "cells": [
  {
   "cell_type": "code",
   "execution_count": 1,
   "metadata": {},
   "outputs": [],
   "source": [
    "%load_ext autoreload\n",
    "%autoreload 2"
   ]
  },
  {
   "cell_type": "code",
   "execution_count": 2,
   "metadata": {},
   "outputs": [],
   "source": [
    "from fury import actor, window\n",
    "import numpy as np\n",
    "\n",
    "from fury.stream.client import FuryStreamClient, FuryStreamInteraction\n",
    "\n",
    "\n",
    "window_size = (720, 500)\n",
    "centers = 1*np.array([[0, 0, 0],[-1, 0, 0],[1, 0, 0]])\n",
    "colors = np.array([[1, 0, 0],[0, 1, 0], [0, 0, 1]])\n",
    "actors = actor.sdf(\n",
    "    centers, primitives='torus', colors=colors, scales=2)\n",
    "\n",
    "scene = window.Scene()\n",
    "scene.add(actors)\n",
    "interactive = False\n",
    "showm = window.ShowManager(scene, reset_camera=False, size=(\n",
    "    window_size[0], window_size[1]), order_transparent=False,\n",
    "    # multi_samples=8\n",
    ")"
   ]
  },
  {
   "cell_type": "code",
   "execution_count": 3,
   "metadata": {},
   "outputs": [],
   "source": [
    "from fury.stream.widget import Widget"
   ]
  },
  {
   "cell_type": "code",
   "execution_count": 4,
   "metadata": {},
   "outputs": [],
   "source": [
    "widget = Widget(showm)"
   ]
  },
  {
   "cell_type": "code",
   "execution_count": 5,
   "metadata": {},
   "outputs": [
    {
     "data": {
      "text/html": [
       "\n",
       "        <iframe\n",
       "            width=\"100%\"\n",
       "            height=\"150px\"\n",
       "            src=\"http://localhost:7237?iframe=1&encoding=mjpeg\"\n",
       "            frameborder=\"0\"\n",
       "            allowfullscreen\n",
       "        ></iframe>\n",
       "        "
      ],
      "text/plain": [
       "<IPython.lib.display.IFrame at 0x7f2e560f33d0>"
      ]
     },
     "metadata": {},
     "output_type": "display_data"
    }
   ],
   "source": [
    "widget.display()\n"
   ]
  },
  {
   "cell_type": "code",
   "execution_count": 9,
   "metadata": {},
   "outputs": [],
   "source": [
    "widget.stop()"
   ]
  },
  {
   "cell_type": "code",
   "execution_count": 7,
   "metadata": {},
   "outputs": [],
   "source": [
    "# creates an exception and restarts the kernel\n",
    "# widget.stream.cleanup()"
   ]
  },
  {
   "cell_type": "code",
   "execution_count": 6,
   "metadata": {},
   "outputs": [],
   "source": [
    "window_size = (720, 500)\n",
    "centers = 1*np.array([[0, 0, 0],[-1, 0, 0],[1, 0, 0]])\n",
    "colors = np.array([[1, 0, 0],[0, 1, 0], [0, 0, 1]])\n",
    "actors2 = actor.sdf( \n",
    "    centers, primitives='sphere', colors=colors, scales=2)\n",
    "\n",
    "scene2 = window.Scene()\n",
    "scene2.add(actors2)\n",
    "interactive = False\n",
    "showm2 = window.ShowManager(scene2, reset_camera=False, size=(\n",
    "    window_size[0], window_size[1]), order_transparent=False,\n",
    "    # multi_samples=8\n",
    ")"
   ]
  },
  {
   "cell_type": "code",
   "execution_count": 7,
   "metadata": {},
   "outputs": [],
   "source": [
    "widget2 = Widget(showm2, encoding='webrtc')"
   ]
  },
  {
   "cell_type": "code",
   "execution_count": 8,
   "metadata": {},
   "outputs": [
    {
     "data": {
      "text/html": [
       "\n",
       "        <iframe\n",
       "            width=\"100%\"\n",
       "            height=\"500px\"\n",
       "            src=\"http://localhost:7354?iframe=1&encoding=webrtc\"\n",
       "            frameborder=\"0\"\n",
       "            allowfullscreen\n",
       "        ></iframe>\n",
       "        "
      ],
      "text/plain": [
       "<IPython.lib.display.IFrame at 0x7f046d4efdc0>"
      ]
     },
     "metadata": {},
     "output_type": "display_data"
    }
   ],
   "source": [
    "widget2.display(500)"
   ]
  },
  {
   "cell_type": "code",
   "execution_count": null,
   "metadata": {},
   "outputs": [],
   "source": [
    "widget2.stop()"
   ]
  }
 ],
 "metadata": {
  "kernelspec": {
   "display_name": "Python 3",
   "language": "python",
   "name": "python3"
  },
  "language_info": {
   "codemirror_mode": {
    "name": "ipython",
    "version": 3
   },
   "file_extension": ".py",
   "mimetype": "text/x-python",
   "name": "python",
   "nbconvert_exporter": "python",
   "pygments_lexer": "ipython3",
   "version": "3.8.5"
  }
 },
 "nbformat": 4,
 "nbformat_minor": 4
}
