{
 "cells": [
  {
   "cell_type": "code",
   "execution_count": 1,
   "metadata": {},
   "outputs": [],
   "source": [
    "%load_ext autoreload\n",
    "%autoreload 2"
   ]
  },
  {
   "cell_type": "code",
   "execution_count": 2,
   "metadata": {},
   "outputs": [],
   "source": [
    "from fury import actor, window\n",
    "import numpy as np\n",
    "\n",
    "\n",
    "window_size = (720, 500)\n",
    "centers = 1*np.array([[0, 0, 0],[-1, 0, 0],[1, 0, 0]])\n",
    "colors = np.array([[1, 0, 0],[0, 1, 0], [0, 0, 1]])\n",
    "actors = actor.sdf(\n",
    "    centers, primitives='torus', colors=colors, scales=2)\n",
    "\n",
    "scene = window.Scene()\n",
    "scene.add(actors)\n",
    "interactive = False\n",
    "showm = window.ShowManager(scene, reset_camera=False, size=(\n",
    "    window_size[0], window_size[1]), order_transparent=False,\n",
    "    # multi_samples=8\n",
    ")"
   ]
  },
  {
   "cell_type": "code",
   "execution_count": 3,
   "metadata": {},
   "outputs": [],
   "source": [
    "from fury.stream.widget import Widget"
   ]
  },
  {
   "cell_type": "code",
   "execution_count": 4,
   "metadata": {},
   "outputs": [],
   "source": [
    "widget = Widget(showm)"
   ]
  },
  {
   "cell_type": "code",
   "execution_count": 5,
   "metadata": {},
   "outputs": [
    {
     "data": {
      "text/html": [
       "\n",
       "        <iframe\n",
       "            width=\"100%\"\n",
       "            height=\"150px\"\n",
       "            src=\"http://localhost:7659?iframe=1&encoding=mjpeg\"\n",
       "            frameborder=\"0\"\n",
       "            allowfullscreen\n",
       "        ></iframe>\n",
       "        "
      ],
      "text/plain": [
       "<IPython.lib.display.IFrame at 0x7f91e09ff670>"
      ]
     },
     "metadata": {},
     "output_type": "display_data"
    }
   ],
   "source": [
    "widget.display()\n"
   ]
  },
  {
   "cell_type": "code",
   "execution_count": 6,
   "metadata": {},
   "outputs": [],
   "source": [
    "widget.stop()"
   ]
  },
  {
   "cell_type": "code",
   "execution_count": 7,
   "metadata": {},
   "outputs": [
    {
     "name": "stdout",
     "output_type": "stream",
     "text": [
      "Shared Memory psm_57e9c42f(info_buffer) File not found\n",
      "Shared Memory psm_d3d26424(buffer image) File not found\n",
      "Shared Memory psm_b7e04abe(buffer image) File not found\n",
      "Shared Memory psm_fd7cb9eb(queue_event_buffer) File not found\n",
      "Shared Memory psm_5314b079(head_tail) File not found\n"
     ]
    }
   ],
   "source": [
    "widget.cleanup()"
   ]
  },
  {
   "cell_type": "code",
   "execution_count": 8,
   "metadata": {},
   "outputs": [],
   "source": [
    "window_size = (720, 500)\n",
    "centers = 1*np.array([[0, 0, 0],[-1, 0, 0],[1, 0, 0]])\n",
    "colors = np.array([[1, 0, 0],[0, 1, 0], [0, 0, 1]])\n",
    "actors2 = actor.sdf( \n",
    "    centers, primitives='sphere', colors=colors, scales=2)\n",
    "\n",
    "scene2 = window.Scene()\n",
    "scene2.add(actors2)\n",
    "interactive = False\n",
    "showm2 = window.ShowManager(scene2, reset_camera=False, size=(\n",
    "    window_size[0], window_size[1]), order_transparent=False,\n",
    "    # multi_samples=8\n",
    ")"
   ]
  },
  {
   "cell_type": "code",
   "execution_count": 9,
   "metadata": {},
   "outputs": [],
   "source": [
    "widget2 = Widget(showm2, encoding='webrtc')"
   ]
  },
  {
   "cell_type": "code",
   "execution_count": 10,
   "metadata": {},
   "outputs": [
    {
     "data": {
      "text/html": [
       "\n",
       "        <iframe\n",
       "            width=\"100%\"\n",
       "            height=\"250px\"\n",
       "            src=\"http://localhost:8803?iframe=1&encoding=webrtc\"\n",
       "            frameborder=\"0\"\n",
       "            allowfullscreen\n",
       "        ></iframe>\n",
       "        "
      ],
      "text/plain": [
       "<IPython.lib.display.IFrame at 0x7f9214179d30>"
      ]
     },
     "metadata": {},
     "output_type": "display_data"
    }
   ],
   "source": [
    "widget2.display(250)"
   ]
  },
  {
   "cell_type": "code",
   "execution_count": 18,
   "metadata": {},
   "outputs": [],
   "source": [
    "widget2.stop()"
   ]
  },
  {
   "cell_type": "code",
   "execution_count": null,
   "metadata": {},
   "outputs": [],
   "source": []
  }
 ],
 "metadata": {
  "kernelspec": {
   "display_name": "Python 3",
   "language": "python",
   "name": "python3"
  },
  "language_info": {
   "codemirror_mode": {
    "name": "ipython",
    "version": 3
   },
   "file_extension": ".py",
   "mimetype": "text/x-python",
   "name": "python",
   "nbconvert_exporter": "python",
   "pygments_lexer": "ipython3",
   "version": "3.8.5"
  }
 },
 "nbformat": 4,
 "nbformat_minor": 4
}
